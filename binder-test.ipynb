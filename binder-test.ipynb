{
 "cells": [
  {
   "cell_type": "markdown",
   "id": "d7af1fcf",
   "metadata": {},
   "source": [
    "## Python Turtle Geometry\n"
   ]
  },
  {
   "cell_type": "code",
   "execution_count": 2,
   "id": "e20ca3f5",
   "metadata": {},
   "outputs": [],
   "source": [
    "import importlib\n",
    "import turtle\n",
    "importlib.reload(turtle)\n",
    "\n",
    "def main():\n",
    "    \n",
    "    t = turtle.Turtle()\n",
    "    wn = turtle.Screen()\n",
    "    t.pensize(3)\n",
    "    t.speed(0)\n",
    "        \n",
    "    def pentagon():\n",
    "        for i in range(5):\n",
    "            t.fd(100)\n",
    "            t.rt(72)\n",
    "                \n",
    "    t.color(\"orange\", \"purple\")\n",
    "    t.begin_fill()\n",
    "    for i in range(10):\n",
    "        pentagon()\n",
    "        t.rt(36)\n",
    "    t.end_fill()\n",
    "\n",
    "    t.hideturtle()\n",
    "    wn.exitonclick()\n",
    "    \n",
    "main()"
   ]
  },
  {
   "cell_type": "code",
   "execution_count": null,
   "id": "c068c977-b239-4036-9fa8-f25fb459e442",
   "metadata": {},
   "outputs": [],
   "source": []
  }
 ],
 "metadata": {
  "kernelspec": {
   "display_name": "Python 3",
   "language": "python",
   "name": "python3"
  },
  "language_info": {
   "codemirror_mode": {
    "name": "ipython",
    "version": 3
   },
   "file_extension": ".py",
   "mimetype": "text/x-python",
   "name": "python",
   "nbconvert_exporter": "python",
   "pygments_lexer": "ipython3",
   "version": "3.8.8"
  }
 },
 "nbformat": 4,
 "nbformat_minor": 5
}
